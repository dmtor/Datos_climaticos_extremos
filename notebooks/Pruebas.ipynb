{
 "cells": [
  {
   "cell_type": "code",
   "execution_count": null,
   "metadata": {},
   "outputs": [],
   "source": [
    "\n",
    "\n",
    "\n",
    "verificar=df_limpieza.groupby([\"Idema\",\"Fecha\"]).size()\n",
    "\n",
    "#Verifico si hay duplicados porque tienen que tener valor mayor a 1.\n",
    "duplicados=verificar[verificar>1].reset_index()\n",
    "\n",
    "if len(duplicados)>0:\n",
    "    print(duplicados[\"Idema\"].unique())\n",
    "\n",
    "codigo=\"C629Q\"\n",
    "\n",
    "filtro = duplicados['Idema'] == codigo\n",
    "\n",
    "\n",
    "fechas=duplicados.loc[filtro,\"Fecha\"]\n",
    "\n",
    "fechas\n",
    "\n"
   ]
  },
  {
   "cell_type": "code",
   "execution_count": null,
   "metadata": {},
   "outputs": [],
   "source": [
    "#Para mis comprobaciones he creado la función imprimir_estacion.\n",
    "\n",
    "def imprimir_estación(nombre_estacion):\n",
    "\n",
    "    estacion=df_limpieza.loc[df_limpieza[\"Estación\"]==nombre_estacion]  \n",
    "    #pd.set_option('display.max_rows', None)\n",
    "    #pd.set_option('display.max_columns', None)\n",
    "    print(estacion)\n",
    "\n",
    "imprimir_estación(\"Fuencaliente\")"
   ]
  },
  {
   "cell_type": "code",
   "execution_count": null,
   "metadata": {},
   "outputs": [],
   "source": [
    "#Establezco un criterio para saber cuandos NaN tengo por temperatura, precipitacion, etc. \n",
    "\n",
    "\n",
    "def nulos_campo(campo,df):\n",
    "\n",
    "    nulos_serie_columna = df.groupby([\"Idema\",\"Estación\", df[\"Fecha\"].dt.year, df[\"Fecha\"].dt.month])[campo].apply(lambda x: x.isnull().sum())\n",
    "    #para ver todo el dt\n",
    "    #pd.set_option('display.max_rows', None)\n",
    "    #pd.set_option('display.max_columns', None)\n",
    "    print(nulos_serie_columna)\n",
    "\n",
    "\n",
    "nulos_campo(\"Racha\",df_viento)"
   ]
  }
 ],
 "metadata": {
  "language_info": {
   "name": "python"
  },
  "orig_nbformat": 4
 },
 "nbformat": 4,
 "nbformat_minor": 2
}
